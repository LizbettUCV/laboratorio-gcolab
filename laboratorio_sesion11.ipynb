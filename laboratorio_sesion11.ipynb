{
  "nbformat": 4,
  "nbformat_minor": 0,
  "metadata": {
    "colab": {
      "provenance": []
    },
    "kernelspec": {
      "name": "python3",
      "display_name": "Python 3"
    },
    "language_info": {
      "name": "python"
    }
  },
  "cells": [
    {
      "cell_type": "code",
      "execution_count": null,
      "metadata": {
        "id": "wMhQQUcAJnMb"
      },
      "outputs": [],
      "source": []
    },
    {
      "cell_type": "code",
      "source": [],
      "metadata": {
        "id": "4bnZTvh_w9oH"
      },
      "execution_count": null,
      "outputs": []
    },
    {
      "cell_type": "code",
      "source": [],
      "metadata": {
        "id": "lid2C-_vw-V-"
      },
      "execution_count": null,
      "outputs": []
    },
    {
      "cell_type": "code",
      "source": [],
      "metadata": {
        "id": "H6LpvoOIxEZt"
      },
      "execution_count": null,
      "outputs": []
    },
    {
      "cell_type": "markdown",
      "source": [
        "laboratorio sesion 11"
      ],
      "metadata": {
        "id": "ujFJ26AAoI1F"
      }
    },
    {
      "cell_type": "code",
      "source": [
        "a=[\"HOLA MUNDO\" , \"MUNDO\"]\n",
        "print (a[0]+ '' +a[1])"
      ],
      "metadata": {
        "colab": {
          "base_uri": "https://localhost:8080/"
        },
        "id": "35PavP_9LmK9",
        "outputId": "76339f1e-651b-49fd-d211-ff097ea6fbe9"
      },
      "execution_count": null,
      "outputs": [
        {
          "output_type": "stream",
          "name": "stdout",
          "text": [
            "HOLA MUNDOMUNDO\n"
          ]
        }
      ]
    },
    {
      "cell_type": "code",
      "source": [
        "from google.colab import drive\n",
        "drive.mount('/content/drive')\n",
        "\n"
      ],
      "metadata": {
        "colab": {
          "base_uri": "https://localhost:8080/"
        },
        "id": "895Q2WoiMBUT",
        "outputId": "75b62f48-b62f-4b7b-e471-01a70fe2f814"
      },
      "execution_count": null,
      "outputs": [
        {
          "output_type": "stream",
          "name": "stdout",
          "text": [
            "Mounted at /content/drive\n"
          ]
        }
      ]
    },
    {
      "cell_type": "code",
      "source": [
        "filename='/content/drive/MyDrive/DatosColab/Lab2023/ejemplo_clase_1.txt'\n",
        "f=open(filename,\"r\")\n",
        "print(f.read())"
      ],
      "metadata": {
        "colab": {
          "base_uri": "https://localhost:8080/"
        },
        "id": "X6TUM8JAMuYe",
        "outputId": "b3f73f31-1491-43f9-a46a-e705dc87a054"
      },
      "execution_count": null,
      "outputs": [
        {
          "output_type": "stream",
          "name": "stdout",
          "text": [
            "Estimado estudiantes, iniciamos la Sesión del curso de Big Data. \n",
            "Con ello tenemos un temario introductorio del uso de Google Colab.\n",
            "Iniciamos...\n"
          ]
        }
      ]
    },
    {
      "cell_type": "code",
      "source": [
        "a=8\n",
        "b=8.0\n",
        "c=1.4e80\n",
        "d=0b100\n",
        "e=43.2 + 3j\n",
        "\n"
      ],
      "metadata": {
        "id": "93pIwzYTOBP2"
      },
      "execution_count": null,
      "outputs": []
    },
    {
      "cell_type": "code",
      "source": [
        "print (type (a))\n",
        "print (type (b))\n",
        "print (type (c))\n",
        "print (type (d))\n",
        "print (type (e))"
      ],
      "metadata": {
        "colab": {
          "base_uri": "https://localhost:8080/"
        },
        "id": "QzaOvsX2OfTd",
        "outputId": "2b2f7310-5cde-45f4-abad-6aafcb52c2a3"
      },
      "execution_count": null,
      "outputs": [
        {
          "output_type": "stream",
          "name": "stdout",
          "text": [
            "<class 'int'>\n",
            "<class 'float'>\n",
            "<class 'float'>\n",
            "<class 'int'>\n",
            "<class 'complex'>\n"
          ]
        }
      ]
    },
    {
      "cell_type": "code",
      "source": [
        "a= \"Hola mundo\"\n",
        "b= \"Mucho gusto\"\n",
        "print (type(a))\n",
        "print (type(b))\n",
        "print (a)\n",
        "print (b)"
      ],
      "metadata": {
        "colab": {
          "base_uri": "https://localhost:8080/"
        },
        "id": "y12rQwHiOqts",
        "outputId": "0d91c4ae-bf10-4c79-8a58-38325c672952"
      },
      "execution_count": null,
      "outputs": [
        {
          "output_type": "stream",
          "name": "stdout",
          "text": [
            "<class 'str'>\n",
            "<class 'str'>\n",
            "Hola mundo\n",
            "Mucho gusto\n"
          ]
        }
      ]
    },
    {
      "cell_type": "code",
      "source": [
        "a=\"una comilla simple'en mi string\"\n",
        "b='una comilla simple \"en mi string'\n",
        "print (a)\n",
        "print (b)"
      ],
      "metadata": {
        "colab": {
          "base_uri": "https://localhost:8080/"
        },
        "id": "zLPk3EGNOyyW",
        "outputId": "b9c814ab-6194-41b6-cad0-06de1c032895"
      },
      "execution_count": null,
      "outputs": [
        {
          "output_type": "stream",
          "name": "stdout",
          "text": [
            "una comilla simple'en mi string\n",
            "una comilla simple \"en mi string\n"
          ]
        }
      ]
    },
    {
      "cell_type": "code",
      "source": [
        "print(\"hola\\nmundo\")\n",
        "print(\"hola\\tmundo\")\n",
        "print(\"hola\\\\mundo\")\n",
        "\n"
      ],
      "metadata": {
        "colab": {
          "base_uri": "https://localhost:8080/"
        },
        "id": "hGPQv2rAPfH0",
        "outputId": "7e404974-9641-4771-eb1a-aa3ef8450e8e"
      },
      "execution_count": null,
      "outputs": [
        {
          "output_type": "stream",
          "name": "stdout",
          "text": [
            "hola\n",
            "mundo\n",
            "hola\tmundo\n",
            "hola\\mundo\n"
          ]
        }
      ]
    },
    {
      "cell_type": "code",
      "source": [
        "print(True or False)\n",
        "print(True and False)"
      ],
      "metadata": {
        "colab": {
          "base_uri": "https://localhost:8080/"
        },
        "id": "mj49E8i3Qdqe",
        "outputId": "0809ba48-7cbf-4aa1-aa2f-e41a17308a80"
      },
      "execution_count": null,
      "outputs": [
        {
          "output_type": "stream",
          "name": "stdout",
          "text": [
            "True\n",
            "False\n"
          ]
        }
      ]
    },
    {
      "cell_type": "code",
      "source": [
        "a=[1,1.2,[3],True, 'Hola', 3+3j]\n",
        "print(len (a))\n",
        "print(a[0])\n",
        "print(a[-1])\n",
        "print(a[2:4])\n",
        "\n",
        "for item in a:print(item)\n",
        "for n in range(4,10):print(n)"
      ],
      "metadata": {
        "colab": {
          "base_uri": "https://localhost:8080/"
        },
        "id": "SyB1v91LRDuj",
        "outputId": "5aba8c01-491c-4890-98c6-e57bfa2b4007"
      },
      "execution_count": null,
      "outputs": [
        {
          "output_type": "stream",
          "name": "stdout",
          "text": [
            "6\n",
            "1\n",
            "(3+3j)\n",
            "[[3], True]\n",
            "1\n",
            "1.2\n",
            "[3]\n",
            "True\n",
            "Hola\n",
            "(3+3j)\n",
            "4\n",
            "5\n",
            "6\n",
            "7\n",
            "8\n",
            "9\n"
          ]
        }
      ]
    },
    {
      "cell_type": "code",
      "source": [
        "\n",
        "a= [1,2,3]\n",
        "b= ['a','b','c']\n",
        "print (a+b)\n",
        "\n",
        "a='supercalibreporsiempre'\n",
        "print(a[4:10])\n",
        "print(a+'cal')\n"
      ],
      "metadata": {
        "colab": {
          "base_uri": "https://localhost:8080/"
        },
        "id": "saqqbFdjSJtD",
        "outputId": "153a7649-f4d7-4862-dca1-0a17e34722d3"
      },
      "execution_count": null,
      "outputs": [
        {
          "output_type": "stream",
          "name": "stdout",
          "text": [
            "[1, 2, 3, 'a', 'b', 'c']\n",
            "rcalib\n",
            "supercalibreporsiemprecal\n"
          ]
        }
      ]
    },
    {
      "cell_type": "code",
      "source": [
        "a=[[2,5,1],[3,10,12],[2,0,0]]\n",
        "print(a[0][0])\n",
        "print(a[1][2])"
      ],
      "metadata": {
        "colab": {
          "base_uri": "https://localhost:8080/"
        },
        "id": "OEx7Fu6O33nu",
        "outputId": "eecb9bd8-eeb0-4913-d92c-72fefa7e71d4"
      },
      "execution_count": null,
      "outputs": [
        {
          "output_type": "stream",
          "name": "stdout",
          "text": [
            "2\n",
            "12\n"
          ]
        }
      ]
    },
    {
      "cell_type": "code",
      "source": [
        "a=[[2,5,1],[3,10,12],[2,0,0]]\n",
        "b=[[2,5,1],[3,10,12],[2,0,0]]\n",
        "print(a+b)"
      ],
      "metadata": {
        "colab": {
          "base_uri": "https://localhost:8080/"
        },
        "id": "bDwhi31DV2jF",
        "outputId": "2bfab6fb-9d69-40f3-ee22-03072b6f3b3b"
      },
      "execution_count": null,
      "outputs": [
        {
          "output_type": "stream",
          "name": "stdout",
          "text": [
            "[[2, 5, 1], [3, 10, 12], [2, 0, 0], [2, 5, 1], [3, 10, 12], [2, 0, 0]]\n"
          ]
        }
      ]
    },
    {
      "cell_type": "code",
      "source": [
        "import numpy as np\n",
        "a=np.array([[2,5,1],[3,10,12],[2,0,0]])\n",
        "b=np.array([[2,5,1],[3,10,12],[2,0,0]])\n",
        "print (a+b)\n",
        "print (type(a))"
      ],
      "metadata": {
        "colab": {
          "base_uri": "https://localhost:8080/"
        },
        "id": "9BdCM8SBzHsA",
        "outputId": "ca7bd14e-ce95-4aa1-d025-1d6ea56afe85"
      },
      "execution_count": null,
      "outputs": [
        {
          "output_type": "stream",
          "name": "stdout",
          "text": [
            "[[ 4 10  2]\n",
            " [ 6 20 24]\n",
            " [ 4  0  0]]\n",
            "<class 'numpy.ndarray'>\n"
          ]
        }
      ]
    },
    {
      "cell_type": "code",
      "source": [
        "a=np.array(['Hola','mundo'])\n",
        "b=np.array(['como','va'])\n",
        "print(a,b)\n",
        "\n"
      ],
      "metadata": {
        "colab": {
          "base_uri": "https://localhost:8080/"
        },
        "id": "BcI3hih-z9j1",
        "outputId": "085720cd-299e-4380-cba7-f618349e0c61"
      },
      "execution_count": null,
      "outputs": [
        {
          "output_type": "stream",
          "name": "stdout",
          "text": [
            "['Hola' 'mundo'] ['como' 'va']\n"
          ]
        }
      ]
    },
    {
      "cell_type": "code",
      "source": [
        "datos = {'Alumno': ['Renzo', 'Noe', 'vivian', 'Victor', 'Robinson'],\n",
        "         'Primer Parcial': [7,8,7,4,10],\n",
        "         'Segundo Parcial' : [10,9,4,10,10],\n",
        "         'observaciones': ['Ninguna', 'Inabilitado', 'Ninguna', 'Aprobado', 'Libre'],\n",
        "         'DNI': [12345678, 23456789, 34567890, 45678901, 56789012]}\n",
        "\n",
        "import pandas as pd\n",
        "df =pd.DataFrame (datos)\n",
        "df\n"
      ],
      "metadata": {
        "colab": {
          "base_uri": "https://localhost:8080/",
          "height": 206
        },
        "id": "XAu5CnfUTUIc",
        "outputId": "9149f519-bb7a-472b-e3a4-a331b25c43d8"
      },
      "execution_count": null,
      "outputs": [
        {
          "output_type": "execute_result",
          "data": {
            "text/plain": [
              "     Alumno  Primer Parcial  Segundo Parcial observaciones       DNI\n",
              "0     Renzo               7               10       Ninguna  12345678\n",
              "1       Noe               8                9   Inabilitado  23456789\n",
              "2    vivian               7                4       Ninguna  34567890\n",
              "3    Victor               4               10      Aprobado  45678901\n",
              "4  Robinson              10               10         Libre  56789012"
            ],
            "text/html": [
              "\n",
              "  <div id=\"df-d287ef6c-d181-4da4-8347-3b5011b4ca0e\" class=\"colab-df-container\">\n",
              "    <div>\n",
              "<style scoped>\n",
              "    .dataframe tbody tr th:only-of-type {\n",
              "        vertical-align: middle;\n",
              "    }\n",
              "\n",
              "    .dataframe tbody tr th {\n",
              "        vertical-align: top;\n",
              "    }\n",
              "\n",
              "    .dataframe thead th {\n",
              "        text-align: right;\n",
              "    }\n",
              "</style>\n",
              "<table border=\"1\" class=\"dataframe\">\n",
              "  <thead>\n",
              "    <tr style=\"text-align: right;\">\n",
              "      <th></th>\n",
              "      <th>Alumno</th>\n",
              "      <th>Primer Parcial</th>\n",
              "      <th>Segundo Parcial</th>\n",
              "      <th>observaciones</th>\n",
              "      <th>DNI</th>\n",
              "    </tr>\n",
              "  </thead>\n",
              "  <tbody>\n",
              "    <tr>\n",
              "      <th>0</th>\n",
              "      <td>Renzo</td>\n",
              "      <td>7</td>\n",
              "      <td>10</td>\n",
              "      <td>Ninguna</td>\n",
              "      <td>12345678</td>\n",
              "    </tr>\n",
              "    <tr>\n",
              "      <th>1</th>\n",
              "      <td>Noe</td>\n",
              "      <td>8</td>\n",
              "      <td>9</td>\n",
              "      <td>Inabilitado</td>\n",
              "      <td>23456789</td>\n",
              "    </tr>\n",
              "    <tr>\n",
              "      <th>2</th>\n",
              "      <td>vivian</td>\n",
              "      <td>7</td>\n",
              "      <td>4</td>\n",
              "      <td>Ninguna</td>\n",
              "      <td>34567890</td>\n",
              "    </tr>\n",
              "    <tr>\n",
              "      <th>3</th>\n",
              "      <td>Victor</td>\n",
              "      <td>4</td>\n",
              "      <td>10</td>\n",
              "      <td>Aprobado</td>\n",
              "      <td>45678901</td>\n",
              "    </tr>\n",
              "    <tr>\n",
              "      <th>4</th>\n",
              "      <td>Robinson</td>\n",
              "      <td>10</td>\n",
              "      <td>10</td>\n",
              "      <td>Libre</td>\n",
              "      <td>56789012</td>\n",
              "    </tr>\n",
              "  </tbody>\n",
              "</table>\n",
              "</div>\n",
              "    <div class=\"colab-df-buttons\">\n",
              "\n",
              "  <div class=\"colab-df-container\">\n",
              "    <button class=\"colab-df-convert\" onclick=\"convertToInteractive('df-d287ef6c-d181-4da4-8347-3b5011b4ca0e')\"\n",
              "            title=\"Convert this dataframe to an interactive table.\"\n",
              "            style=\"display:none;\">\n",
              "\n",
              "  <svg xmlns=\"http://www.w3.org/2000/svg\" height=\"24px\" viewBox=\"0 -960 960 960\">\n",
              "    <path d=\"M120-120v-720h720v720H120Zm60-500h600v-160H180v160Zm220 220h160v-160H400v160Zm0 220h160v-160H400v160ZM180-400h160v-160H180v160Zm440 0h160v-160H620v160ZM180-180h160v-160H180v160Zm440 0h160v-160H620v160Z\"/>\n",
              "  </svg>\n",
              "    </button>\n",
              "\n",
              "  <style>\n",
              "    .colab-df-container {\n",
              "      display:flex;\n",
              "      gap: 12px;\n",
              "    }\n",
              "\n",
              "    .colab-df-convert {\n",
              "      background-color: #E8F0FE;\n",
              "      border: none;\n",
              "      border-radius: 50%;\n",
              "      cursor: pointer;\n",
              "      display: none;\n",
              "      fill: #1967D2;\n",
              "      height: 32px;\n",
              "      padding: 0 0 0 0;\n",
              "      width: 32px;\n",
              "    }\n",
              "\n",
              "    .colab-df-convert:hover {\n",
              "      background-color: #E2EBFA;\n",
              "      box-shadow: 0px 1px 2px rgba(60, 64, 67, 0.3), 0px 1px 3px 1px rgba(60, 64, 67, 0.15);\n",
              "      fill: #174EA6;\n",
              "    }\n",
              "\n",
              "    .colab-df-buttons div {\n",
              "      margin-bottom: 4px;\n",
              "    }\n",
              "\n",
              "    [theme=dark] .colab-df-convert {\n",
              "      background-color: #3B4455;\n",
              "      fill: #D2E3FC;\n",
              "    }\n",
              "\n",
              "    [theme=dark] .colab-df-convert:hover {\n",
              "      background-color: #434B5C;\n",
              "      box-shadow: 0px 1px 3px 1px rgba(0, 0, 0, 0.15);\n",
              "      filter: drop-shadow(0px 1px 2px rgba(0, 0, 0, 0.3));\n",
              "      fill: #FFFFFF;\n",
              "    }\n",
              "  </style>\n",
              "\n",
              "    <script>\n",
              "      const buttonEl =\n",
              "        document.querySelector('#df-d287ef6c-d181-4da4-8347-3b5011b4ca0e button.colab-df-convert');\n",
              "      buttonEl.style.display =\n",
              "        google.colab.kernel.accessAllowed ? 'block' : 'none';\n",
              "\n",
              "      async function convertToInteractive(key) {\n",
              "        const element = document.querySelector('#df-d287ef6c-d181-4da4-8347-3b5011b4ca0e');\n",
              "        const dataTable =\n",
              "          await google.colab.kernel.invokeFunction('convertToInteractive',\n",
              "                                                    [key], {});\n",
              "        if (!dataTable) return;\n",
              "\n",
              "        const docLinkHtml = 'Like what you see? Visit the ' +\n",
              "          '<a target=\"_blank\" href=https://colab.research.google.com/notebooks/data_table.ipynb>data table notebook</a>'\n",
              "          + ' to learn more about interactive tables.';\n",
              "        element.innerHTML = '';\n",
              "        dataTable['output_type'] = 'display_data';\n",
              "        await google.colab.output.renderOutput(dataTable, element);\n",
              "        const docLink = document.createElement('div');\n",
              "        docLink.innerHTML = docLinkHtml;\n",
              "        element.appendChild(docLink);\n",
              "      }\n",
              "    </script>\n",
              "  </div>\n",
              "\n",
              "\n",
              "<div id=\"df-bbb102ad-bedc-44d9-b6ae-89930540b588\">\n",
              "  <button class=\"colab-df-quickchart\" onclick=\"quickchart('df-bbb102ad-bedc-44d9-b6ae-89930540b588')\"\n",
              "            title=\"Suggest charts\"\n",
              "            style=\"display:none;\">\n",
              "\n",
              "<svg xmlns=\"http://www.w3.org/2000/svg\" height=\"24px\"viewBox=\"0 0 24 24\"\n",
              "     width=\"24px\">\n",
              "    <g>\n",
              "        <path d=\"M19 3H5c-1.1 0-2 .9-2 2v14c0 1.1.9 2 2 2h14c1.1 0 2-.9 2-2V5c0-1.1-.9-2-2-2zM9 17H7v-7h2v7zm4 0h-2V7h2v10zm4 0h-2v-4h2v4z\"/>\n",
              "    </g>\n",
              "</svg>\n",
              "  </button>\n",
              "\n",
              "<style>\n",
              "  .colab-df-quickchart {\n",
              "      --bg-color: #E8F0FE;\n",
              "      --fill-color: #1967D2;\n",
              "      --hover-bg-color: #E2EBFA;\n",
              "      --hover-fill-color: #174EA6;\n",
              "      --disabled-fill-color: #AAA;\n",
              "      --disabled-bg-color: #DDD;\n",
              "  }\n",
              "\n",
              "  [theme=dark] .colab-df-quickchart {\n",
              "      --bg-color: #3B4455;\n",
              "      --fill-color: #D2E3FC;\n",
              "      --hover-bg-color: #434B5C;\n",
              "      --hover-fill-color: #FFFFFF;\n",
              "      --disabled-bg-color: #3B4455;\n",
              "      --disabled-fill-color: #666;\n",
              "  }\n",
              "\n",
              "  .colab-df-quickchart {\n",
              "    background-color: var(--bg-color);\n",
              "    border: none;\n",
              "    border-radius: 50%;\n",
              "    cursor: pointer;\n",
              "    display: none;\n",
              "    fill: var(--fill-color);\n",
              "    height: 32px;\n",
              "    padding: 0;\n",
              "    width: 32px;\n",
              "  }\n",
              "\n",
              "  .colab-df-quickchart:hover {\n",
              "    background-color: var(--hover-bg-color);\n",
              "    box-shadow: 0 1px 2px rgba(60, 64, 67, 0.3), 0 1px 3px 1px rgba(60, 64, 67, 0.15);\n",
              "    fill: var(--button-hover-fill-color);\n",
              "  }\n",
              "\n",
              "  .colab-df-quickchart-complete:disabled,\n",
              "  .colab-df-quickchart-complete:disabled:hover {\n",
              "    background-color: var(--disabled-bg-color);\n",
              "    fill: var(--disabled-fill-color);\n",
              "    box-shadow: none;\n",
              "  }\n",
              "\n",
              "  .colab-df-spinner {\n",
              "    border: 2px solid var(--fill-color);\n",
              "    border-color: transparent;\n",
              "    border-bottom-color: var(--fill-color);\n",
              "    animation:\n",
              "      spin 1s steps(1) infinite;\n",
              "  }\n",
              "\n",
              "  @keyframes spin {\n",
              "    0% {\n",
              "      border-color: transparent;\n",
              "      border-bottom-color: var(--fill-color);\n",
              "      border-left-color: var(--fill-color);\n",
              "    }\n",
              "    20% {\n",
              "      border-color: transparent;\n",
              "      border-left-color: var(--fill-color);\n",
              "      border-top-color: var(--fill-color);\n",
              "    }\n",
              "    30% {\n",
              "      border-color: transparent;\n",
              "      border-left-color: var(--fill-color);\n",
              "      border-top-color: var(--fill-color);\n",
              "      border-right-color: var(--fill-color);\n",
              "    }\n",
              "    40% {\n",
              "      border-color: transparent;\n",
              "      border-right-color: var(--fill-color);\n",
              "      border-top-color: var(--fill-color);\n",
              "    }\n",
              "    60% {\n",
              "      border-color: transparent;\n",
              "      border-right-color: var(--fill-color);\n",
              "    }\n",
              "    80% {\n",
              "      border-color: transparent;\n",
              "      border-right-color: var(--fill-color);\n",
              "      border-bottom-color: var(--fill-color);\n",
              "    }\n",
              "    90% {\n",
              "      border-color: transparent;\n",
              "      border-bottom-color: var(--fill-color);\n",
              "    }\n",
              "  }\n",
              "</style>\n",
              "\n",
              "  <script>\n",
              "    async function quickchart(key) {\n",
              "      const quickchartButtonEl =\n",
              "        document.querySelector('#' + key + ' button');\n",
              "      quickchartButtonEl.disabled = true;  // To prevent multiple clicks.\n",
              "      quickchartButtonEl.classList.add('colab-df-spinner');\n",
              "      try {\n",
              "        const charts = await google.colab.kernel.invokeFunction(\n",
              "            'suggestCharts', [key], {});\n",
              "      } catch (error) {\n",
              "        console.error('Error during call to suggestCharts:', error);\n",
              "      }\n",
              "      quickchartButtonEl.classList.remove('colab-df-spinner');\n",
              "      quickchartButtonEl.classList.add('colab-df-quickchart-complete');\n",
              "    }\n",
              "    (() => {\n",
              "      let quickchartButtonEl =\n",
              "        document.querySelector('#df-bbb102ad-bedc-44d9-b6ae-89930540b588 button');\n",
              "      quickchartButtonEl.style.display =\n",
              "        google.colab.kernel.accessAllowed ? 'block' : 'none';\n",
              "    })();\n",
              "  </script>\n",
              "</div>\n",
              "    </div>\n",
              "  </div>\n"
            ]
          },
          "metadata": {},
          "execution_count": 16
        }
      ]
    },
    {
      "cell_type": "code",
      "source": [
        "print(list(df.columns))\n",
        "print(list(df.index))"
      ],
      "metadata": {
        "colab": {
          "base_uri": "https://localhost:8080/"
        },
        "id": "nFDNE9f6X94_",
        "outputId": "e18b52e7-9910-48da-ca39-d4c224f8a0d6"
      },
      "execution_count": null,
      "outputs": [
        {
          "output_type": "stream",
          "name": "stdout",
          "text": [
            "['Alumno', 'Primer Parcial', 'Segundo Parcial', 'observaciones', 'DNI']\n",
            "[0, 1, 2, 3, 4]\n"
          ]
        }
      ]
    },
    {
      "cell_type": "code",
      "source": [
        "# @title\n",
        "from google.colab import drive\n",
        "import pandas as pd\n",
        "import matplotlib.pylab as plt\n",
        "import matplotlib.dates as mdates\n",
        "import seaborn as sbn\n",
        "from ipywidgets import interact, interactive, fixed, interact_manual, interactive_output\n",
        "import ipywidgets as widgets\n",
        "import plotly.express as px\n",
        "import numpy as np\n",
        "from wordcloud import WordCloud\n",
        "\n",
        "drive.mount('/content/drive')\n",
        "filename='/content/drive/MyDrive/DatosColab/Lab2023/vacunas_safe.csv'\n",
        "d_1=pd.read_csv (filename)\n",
        "\n"
      ],
      "metadata": {
        "colab": {
          "base_uri": "https://localhost:8080/"
        },
        "id": "1wJoUv-lYlmv",
        "outputId": "b47a412c-b280-4dd7-cb05-3c4524983757"
      },
      "execution_count": null,
      "outputs": [
        {
          "output_type": "stream",
          "name": "stdout",
          "text": [
            "Drive already mounted at /content/drive; to attempt to forcibly remount, call drive.mount(\"/content/drive\", force_remount=True).\n"
          ]
        }
      ]
    },
    {
      "cell_type": "code",
      "source": [
        "dic_generos = {1:'Mujer', 2:'Varón', 3:'Prefiero no decirlo',\n",
        "4:'No indica', 5:'Ninguna', 6:'otro'}\n",
        "generos= d_1['0_genero'].value_counts()\n",
        "fig, axs=plt.subplots(nrows=1, ncols=2, figsize=(18,6))\n",
        "axs[0].grid('on', linestyle='dashed',alpha=0.5)\n",
        "axs[0].set_title('Género de los Participantes')\n",
        "axs[0].set_ylabel('Fracción')\n",
        "axs[0].bar(x=[i for i in range(len(generos))],\n",
        "  height = generos.values / generos.values.sum(),\n",
        "  color = plt.get_cmap('Set2').colors\n",
        ")\n",
        "axs[0].set_xticks([i for i in range(len(generos))])\n",
        "axs[0].set_xticklabels([dic_generos[g][:10]for g in generos.keys()],\n",
        "                        rotation = 90\n",
        "                        )\n",
        "axs[0]. set_yscale('log')\n",
        "axs[0].tick_params(axis='both', which ='major', labelsize = 12)\n",
        "axs[1].pie(generos.values / generos.values.sum(),\n",
        "           colors = plt.get_cmap('Set2').colors)\n",
        "axs[1].legend([dic_generos[g][:10]for g in generos.keys()], loc=\n",
        "(-0.12,-0.15))\n"
      ],
      "metadata": {
        "colab": {
          "base_uri": "https://localhost:8080/",
          "height": 421
        },
        "id": "yH3eJCLzcOtn",
        "outputId": "8c328a96-b8c6-4c07-e6a4-f83399afdd32"
      },
      "execution_count": null,
      "outputs": [
        {
          "output_type": "execute_result",
          "data": {
            "text/plain": [
              "<matplotlib.legend.Legend at 0x7cf0ab065480>"
            ]
          },
          "metadata": {},
          "execution_count": 19
        },
        {
          "output_type": "display_data",
          "data": {
            "text/plain": [
              "<Figure size 1800x600 with 2 Axes>"
            ],
            "image/png": "[encoded data removed]"
          },
          "metadata": {}
        }
      ]
    },
    {
      "cell_type": "code",
      "source": [
        "\n"
      ],
      "metadata": {
        "id": "V2uwv4V7rSsR"
      },
      "execution_count": null,
      "outputs": []
    },
    {
      "cell_type": "code",
      "source": [
        "plt.show()\n",
        "\n",
        "\n",
        "d_1.head()\n",
        "\n",
        "\n",
        "\n"
      ],
      "metadata": {
        "colab": {
          "base_uri": "https://localhost:8080/",
          "height": 342
        },
        "id": "d7bSj2pKvn1J",
        "outputId": "4312c576-1d23-4f56-fe9b-6547750f92f3"
      },
      "execution_count": null,
      "outputs": [
        {
          "output_type": "execute_result",
          "data": {
            "text/plain": [
              "   0_seVacunoOEnEnsayo     0_forkEnte         0_forkNarrativa 0_forkVacuna  \\\n",
              "0                    0  gubernamental   mejoraColectivaLejana       pfizer   \n",
              "1                    0  gubernamental  mejoraColectivaCercana    sinopharm   \n",
              "2                    0  gubernamental  mejoraColectivaCercana    sinopharm   \n",
              "3                    0  gubernamental  mejoraColectivaCercana       pfizer   \n",
              "4                    0  gubernamental   mejoraColectivaLejana       pfizer   \n",
              "\n",
              "   0_vacunaAplicada  0_preTeDarias  0_preEfectiva  0_preEfectosAdversos  \\\n",
              "0              -999             99             99                     2   \n",
              "1              -999            100             74                    49   \n",
              "2              -999             98             94                    10   \n",
              "3              -999             76             88                     0   \n",
              "4              -999            100             84                    20   \n",
              "\n",
              "   0_mejoraColectivaCercana  0_mejoraColectivaLejana  ...  0_ayudaCuidado  \\\n",
              "0                      -999                        4  ...               6   \n",
              "1                         3                     -999  ...               6   \n",
              "2                         1                     -999  ...               6   \n",
              "3                         2                     -999  ...               7   \n",
              "4                      -999                        3  ...               5   \n",
              "\n",
              "   0_asistirDesconocidoTareaSimple  0_ayudaDesconocidoEncontrarAlgo  \\\n",
              "0                                3                                6   \n",
              "1                                7                                6   \n",
              "2                                6                                5   \n",
              "3                                6                                2   \n",
              "4                                7                                6   \n",
              "\n",
              "   0_timePre  0_timeNarrativa  0_timePost  0_timeTerms  0_share  \\\n",
              "0       9119             9581       10600        34162     -999   \n",
              "1      17393            13507       16723        30151     -999   \n",
              "2      17032            15082      119616         7384     -999   \n",
              "3      19117            18796        8994         4069     -999   \n",
              "4      27514            27605       18658        35336     -999   \n",
              "\n",
              "           timestamp                 hash  \n",
              "0  5/2/2021 12:37:15 -8530867232096866797  \n",
              "1  5/2/2021 12:37:45  5227417009213588659  \n",
              "2  5/2/2021 12:38:49  -218351779332136708  \n",
              "3  5/2/2021 12:43:07 -8721146152163509145  \n",
              "4  5/2/2021 12:39:21 -5310702376306721267  \n",
              "\n",
              "[5 rows x 52 columns]"
            ],
            "text/html": [
              "\n",
              "  <div id=\"df-fb34a925-b603-4812-b5c2-e8632e2e1800\" class=\"colab-df-container\">\n",
              "    <div>\n",
              "<style scoped>\n",
              "    .dataframe tbody tr th:only-of-type {\n",
              "        vertical-align: middle;\n",
              "    }\n",
              "\n",
              "    .dataframe tbody tr th {\n",
              "        vertical-align: top;\n",
              "    }\n",
              "\n",
              "    .dataframe thead th {\n",
              "        text-align: right;\n",
              "    }\n",
              "</style>\n",
              "<table border=\"1\" class=\"dataframe\">\n",
              "  <thead>\n",
              "    <tr style=\"text-align: right;\">\n",
              "      <th></th>\n",
              "      <th>0_seVacunoOEnEnsayo</th>\n",
              "      <th>0_forkEnte</th>\n",
              "      <th>0_forkNarrativa</th>\n",
              "      <th>0_forkVacuna</th>\n",
              "      <th>0_vacunaAplicada</th>\n",
              "      <th>0_preTeDarias</th>\n",
              "      <th>0_preEfectiva</th>\n",
              "      <th>0_preEfectosAdversos</th>\n",
              "      <th>0_mejoraColectivaCercana</th>\n",
              "      <th>0_mejoraColectivaLejana</th>\n",
              "      <th>...</th>\n",
              "      <th>0_ayudaCuidado</th>\n",
              "      <th>0_asistirDesconocidoTareaSimple</th>\n",
              "      <th>0_ayudaDesconocidoEncontrarAlgo</th>\n",
              "      <th>0_timePre</th>\n",
              "      <th>0_timeNarrativa</th>\n",
              "      <th>0_timePost</th>\n",
              "      <th>0_timeTerms</th>\n",
              "      <th>0_share</th>\n",
              "      <th>timestamp</th>\n",
              "      <th>hash</th>\n",
              "    </tr>\n",
              "  </thead>\n",
              "  <tbody>\n",
              "    <tr>\n",
              "      <th>0</th>\n",
              "      <td>0</td>\n",
              "      <td>gubernamental</td>\n",
              "      <td>mejoraColectivaLejana</td>\n",
              "      <td>pfizer</td>\n",
              "      <td>-999</td>\n",
              "      <td>99</td>\n",
              "      <td>99</td>\n",
              "      <td>2</td>\n",
              "      <td>-999</td>\n",
              "      <td>4</td>\n",
              "      <td>...</td>\n",
              "      <td>6</td>\n",
              "      <td>3</td>\n",
              "      <td>6</td>\n",
              "      <td>9119</td>\n",
              "      <td>9581</td>\n",
              "      <td>10600</td>\n",
              "      <td>34162</td>\n",
              "      <td>-999</td>\n",
              "      <td>5/2/2021 12:37:15</td>\n",
              "      <td>-8530867232096866797</td>\n",
              "    </tr>\n",
              "    <tr>\n",
              "      <th>1</th>\n",
              "      <td>0</td>\n",
              "      <td>gubernamental</td>\n",
              "      <td>mejoraColectivaCercana</td>\n",
              "      <td>sinopharm</td>\n",
              "      <td>-999</td>\n",
              "      <td>100</td>\n",
              "      <td>74</td>\n",
              "      <td>49</td>\n",
              "      <td>3</td>\n",
              "      <td>-999</td>\n",
              "      <td>...</td>\n",
              "      <td>6</td>\n",
              "      <td>7</td>\n",
              "      <td>6</td>\n",
              "      <td>17393</td>\n",
              "      <td>13507</td>\n",
              "      <td>16723</td>\n",
              "      <td>30151</td>\n",
              "      <td>-999</td>\n",
              "      <td>5/2/2021 12:37:45</td>\n",
              "      <td>5227417009213588659</td>\n",
              "    </tr>\n",
              "    <tr>\n",
              "      <th>2</th>\n",
              "      <td>0</td>\n",
              "      <td>gubernamental</td>\n",
              "      <td>mejoraColectivaCercana</td>\n",
              "      <td>sinopharm</td>\n",
              "      <td>-999</td>\n",
              "      <td>98</td>\n",
              "      <td>94</td>\n",
              "      <td>10</td>\n",
              "      <td>1</td>\n",
              "      <td>-999</td>\n",
              "      <td>...</td>\n",
              "      <td>6</td>\n",
              "      <td>6</td>\n",
              "      <td>5</td>\n",
              "      <td>17032</td>\n",
              "      <td>15082</td>\n",
              "      <td>119616</td>\n",
              "      <td>7384</td>\n",
              "      <td>-999</td>\n",
              "      <td>5/2/2021 12:38:49</td>\n",
              "      <td>-218351779332136708</td>\n",
              "    </tr>\n",
              "    <tr>\n",
              "      <th>3</th>\n",
              "      <td>0</td>\n",
              "      <td>gubernamental</td>\n",
              "      <td>mejoraColectivaCercana</td>\n",
              "      <td>pfizer</td>\n",
              "      <td>-999</td>\n",
              "      <td>76</td>\n",
              "      <td>88</td>\n",
              "      <td>0</td>\n",
              "      <td>2</td>\n",
              "      <td>-999</td>\n",
              "      <td>...</td>\n",
              "      <td>7</td>\n",
              "      <td>6</td>\n",
              "      <td>2</td>\n",
              "      <td>19117</td>\n",
              "      <td>18796</td>\n",
              "      <td>8994</td>\n",
              "      <td>4069</td>\n",
              "      <td>-999</td>\n",
              "      <td>5/2/2021 12:43:07</td>\n",
              "      <td>-8721146152163509145</td>\n",
              "    </tr>\n",
              "    <tr>\n",
              "      <th>4</th>\n",
              "      <td>0</td>\n",
              "      <td>gubernamental</td>\n",
              "      <td>mejoraColectivaLejana</td>\n",
              "      <td>pfizer</td>\n",
              "      <td>-999</td>\n",
              "      <td>100</td>\n",
              "      <td>84</td>\n",
              "      <td>20</td>\n",
              "      <td>-999</td>\n",
              "      <td>3</td>\n",
              "      <td>...</td>\n",
              "      <td>5</td>\n",
              "      <td>7</td>\n",
              "      <td>6</td>\n",
              "      <td>27514</td>\n",
              "      <td>27605</td>\n",
              "      <td>18658</td>\n",
              "      <td>35336</td>\n",
              "      <td>-999</td>\n",
              "      <td>5/2/2021 12:39:21</td>\n",
              "      <td>-5310702376306721267</td>\n",
              "    </tr>\n",
              "  </tbody>\n",
              "</table>\n",
              "<p>5 rows × 52 columns</p>\n",
              "</div>\n",
              "    <div class=\"colab-df-buttons\">\n",
              "\n",
              "  <div class=\"colab-df-container\">\n",
              "    <button class=\"colab-df-convert\" onclick=\"convertToInteractive('df-fb34a925-b603-4812-b5c2-e8632e2e1800')\"\n",
              "            title=\"Convert this dataframe to an interactive table.\"\n",
              "            style=\"display:none;\">\n",
              "\n",
              "  <svg xmlns=\"http://www.w3.org/2000/svg\" height=\"24px\" viewBox=\"0 -960 960 960\">\n",
              "    <path d=\"M120-120v-720h720v720H120Zm60-500h600v-160H180v160Zm220 220h160v-160H400v160Zm0 220h160v-160H400v160ZM180-400h160v-160H180v160Zm440 0h160v-160H620v160ZM180-180h160v-160H180v160Zm440 0h160v-160H620v160Z\"/>\n",
              "  </svg>\n",
              "    </button>\n",
              "\n",
              "  <style>\n",
              "    .colab-df-container {\n",
              "      display:flex;\n",
              "      gap: 12px;\n",
              "    }\n",
              "\n",
              "    .colab-df-convert {\n",
              "      background-color: #E8F0FE;\n",
              "      border: none;\n",
              "      border-radius: 50%;\n",
              "      cursor: pointer;\n",
              "      display: none;\n",
              "      fill: #1967D2;\n",
              "      height: 32px;\n",
              "      padding: 0 0 0 0;\n",
              "      width: 32px;\n",
              "    }\n",
              "\n",
              "    .colab-df-convert:hover {\n",
              "      background-color: #E2EBFA;\n",
              "      box-shadow: 0px 1px 2px rgba(60, 64, 67, 0.3), 0px 1px 3px 1px rgba(60, 64, 67, 0.15);\n",
              "      fill: #174EA6;\n",
              "    }\n",
              "\n",
              "    .colab-df-buttons div {\n",
              "      margin-bottom: 4px;\n",
              "    }\n",
              "\n",
              "    [theme=dark] .colab-df-convert {\n",
              "      background-color: #3B4455;\n",
              "      fill: #D2E3FC;\n",
              "    }\n",
              "\n",
              "    [theme=dark] .colab-df-convert:hover {\n",
              "      background-color: #434B5C;\n",
              "      box-shadow: 0px 1px 3px 1px rgba(0, 0, 0, 0.15);\n",
              "      filter: drop-shadow(0px 1px 2px rgba(0, 0, 0, 0.3));\n",
              "      fill: #FFFFFF;\n",
              "    }\n",
              "  </style>\n",
              "\n",
              "    <script>\n",
              "      const buttonEl =\n",
              "        document.querySelector('#df-fb34a925-b603-4812-b5c2-e8632e2e1800 button.colab-df-convert');\n",
              "      buttonEl.style.display =\n",
              "        google.colab.kernel.accessAllowed ? 'block' : 'none';\n",
              "\n",
              "      async function convertToInteractive(key) {\n",
              "        const element = document.querySelector('#df-fb34a925-b603-4812-b5c2-e8632e2e1800');\n",
              "        const dataTable =\n",
              "          await google.colab.kernel.invokeFunction('convertToInteractive',\n",
              "                                                    [key], {});\n",
              "        if (!dataTable) return;\n",
              "\n",
              "        const docLinkHtml = 'Like what you see? Visit the ' +\n",
              "          '<a target=\"_blank\" href=https://colab.research.google.com/notebooks/data_table.ipynb>data table notebook</a>'\n",
              "          + ' to learn more about interactive tables.';\n",
              "        element.innerHTML = '';\n",
              "        dataTable['output_type'] = 'display_data';\n",
              "        await google.colab.output.renderOutput(dataTable, element);\n",
              "        const docLink = document.createElement('div');\n",
              "        docLink.innerHTML = docLinkHtml;\n",
              "        element.appendChild(docLink);\n",
              "      }\n",
              "    </script>\n",
              "  </div>\n",
              "\n",
              "\n",
              "<div id=\"df-d53dd36c-9864-49ba-8903-19679de9e4ce\">\n",
              "  <button class=\"colab-df-quickchart\" onclick=\"quickchart('df-d53dd36c-9864-49ba-8903-19679de9e4ce')\"\n",
              "            title=\"Suggest charts\"\n",
              "            style=\"display:none;\">\n",
              "\n",
              "<svg xmlns=\"http://www.w3.org/2000/svg\" height=\"24px\"viewBox=\"0 0 24 24\"\n",
              "     width=\"24px\">\n",
              "    <g>\n",
              "        <path d=\"M19 3H5c-1.1 0-2 .9-2 2v14c0 1.1.9 2 2 2h14c1.1 0 2-.9 2-2V5c0-1.1-.9-2-2-2zM9 17H7v-7h2v7zm4 0h-2V7h2v10zm4 0h-2v-4h2v4z\"/>\n",
              "    </g>\n",
              "</svg>\n",
              "  </button>\n",
              "\n",
              "<style>\n",
              "  .colab-df-quickchart {\n",
              "      --bg-color: #E8F0FE;\n",
              "      --fill-color: #1967D2;\n",
              "      --hover-bg-color: #E2EBFA;\n",
              "      --hover-fill-color: #174EA6;\n",
              "      --disabled-fill-color: #AAA;\n",
              "      --disabled-bg-color: #DDD;\n",
              "  }\n",
              "\n",
              "  [theme=dark] .colab-df-quickchart {\n",
              "      --bg-color: #3B4455;\n",
              "      --fill-color: #D2E3FC;\n",
              "      --hover-bg-color: #434B5C;\n",
              "      --hover-fill-color: #FFFFFF;\n",
              "      --disabled-bg-color: #3B4455;\n",
              "      --disabled-fill-color: #666;\n",
              "  }\n",
              "\n",
              "  .colab-df-quickchart {\n",
              "    background-color: var(--bg-color);\n",
              "    border: none;\n",
              "    border-radius: 50%;\n",
              "    cursor: pointer;\n",
              "    display: none;\n",
              "    fill: var(--fill-color);\n",
              "    height: 32px;\n",
              "    padding: 0;\n",
              "    width: 32px;\n",
              "  }\n",
              "\n",
              "  .colab-df-quickchart:hover {\n",
              "    background-color: var(--hover-bg-color);\n",
              "    box-shadow: 0 1px 2px rgba(60, 64, 67, 0.3), 0 1px 3px 1px rgba(60, 64, 67, 0.15);\n",
              "    fill: var(--button-hover-fill-color);\n",
              "  }\n",
              "\n",
              "  .colab-df-quickchart-complete:disabled,\n",
              "  .colab-df-quickchart-complete:disabled:hover {\n",
              "    background-color: var(--disabled-bg-color);\n",
              "    fill: var(--disabled-fill-color);\n",
              "    box-shadow: none;\n",
              "  }\n",
              "\n",
              "  .colab-df-spinner {\n",
              "    border: 2px solid var(--fill-color);\n",
              "    border-color: transparent;\n",
              "    border-bottom-color: var(--fill-color);\n",
              "    animation:\n",
              "      spin 1s steps(1) infinite;\n",
              "  }\n",
              "\n",
              "  @keyframes spin {\n",
              "    0% {\n",
              "      border-color: transparent;\n",
              "      border-bottom-color: var(--fill-color);\n",
              "      border-left-color: var(--fill-color);\n",
              "    }\n",
              "    20% {\n",
              "      border-color: transparent;\n",
              "      border-left-color: var(--fill-color);\n",
              "      border-top-color: var(--fill-color);\n",
              "    }\n",
              "    30% {\n",
              "      border-color: transparent;\n",
              "      border-left-color: var(--fill-color);\n",
              "      border-top-color: var(--fill-color);\n",
              "      border-right-color: var(--fill-color);\n",
              "    }\n",
              "    40% {\n",
              "      border-color: transparent;\n",
              "      border-right-color: var(--fill-color);\n",
              "      border-top-color: var(--fill-color);\n",
              "    }\n",
              "    60% {\n",
              "      border-color: transparent;\n",
              "      border-right-color: var(--fill-color);\n",
              "    }\n",
              "    80% {\n",
              "      border-color: transparent;\n",
              "      border-right-color: var(--fill-color);\n",
              "      border-bottom-color: var(--fill-color);\n",
              "    }\n",
              "    90% {\n",
              "      border-color: transparent;\n",
              "      border-bottom-color: var(--fill-color);\n",
              "    }\n",
              "  }\n",
              "</style>\n",
              "\n",
              "  <script>\n",
              "    async function quickchart(key) {\n",
              "      const quickchartButtonEl =\n",
              "        document.querySelector('#' + key + ' button');\n",
              "      quickchartButtonEl.disabled = true;  // To prevent multiple clicks.\n",
              "      quickchartButtonEl.classList.add('colab-df-spinner');\n",
              "      try {\n",
              "        const charts = await google.colab.kernel.invokeFunction(\n",
              "            'suggestCharts', [key], {});\n",
              "      } catch (error) {\n",
              "        console.error('Error during call to suggestCharts:', error);\n",
              "      }\n",
              "      quickchartButtonEl.classList.remove('colab-df-spinner');\n",
              "      quickchartButtonEl.classList.add('colab-df-quickchart-complete');\n",
              "    }\n",
              "    (() => {\n",
              "      let quickchartButtonEl =\n",
              "        document.querySelector('#df-d53dd36c-9864-49ba-8903-19679de9e4ce button');\n",
              "      quickchartButtonEl.style.display =\n",
              "        google.colab.kernel.accessAllowed ? 'block' : 'none';\n",
              "    })();\n",
              "  </script>\n",
              "</div>\n",
              "    </div>\n",
              "  </div>\n"
            ]
          },
          "metadata": {},
          "execution_count": 20
        }
      ]
    },
    {
      "cell_type": "code",
      "source": [
        "nivel_educativo_segun_edad = d_1.groupby([pd.cut(d_1['0_edad'],4),\n",
        "'0_nivelEducativo'])['hash'].count().unstack(1).drop([1,2], axis=1).apply(lambda x: x/x .sum(), axis = 1)\n",
        "nivel_educativo_segun_edad\n"
      ],
      "metadata": {
        "colab": {
          "base_uri": "https://localhost:8080/",
          "height": 206
        },
        "id": "poCXYRL2z9tV",
        "outputId": "1834d09f-2592-4fea-ec0c-64ffd7df522f"
      },
      "execution_count": null,
      "outputs": [
        {
          "output_type": "execute_result",
          "data": {
            "text/plain": [
              "0_nivelEducativo         3         4         5         6         7         8\n",
              "0_edad                                                                      \n",
              "(0.914, 22.5]     0.067961  0.187996  0.707855  0.012357  0.022065  0.001765\n",
              "(22.5, 44.0]      0.003860  0.037101  0.398885  0.098220  0.349989  0.111945\n",
              "(44.0, 65.5]      0.008706  0.036070  0.177861  0.145522  0.329602  0.302239\n",
              "(65.5, 87.0]      0.040816  0.061224  0.224490  0.112245  0.265306  0.295918"
            ],
            "text/html": [
              "\n",
              "  <div id=\"df-1d605520-6854-4c1d-9166-0577e8e02396\" class=\"colab-df-container\">\n",
              "    <div>\n",
              "<style scoped>\n",
              "    .dataframe tbody tr th:only-of-type {\n",
              "        vertical-align: middle;\n",
              "    }\n",
              "\n",
              "    .dataframe tbody tr th {\n",
              "        vertical-align: top;\n",
              "    }\n",
              "\n",
              "    .dataframe thead th {\n",
              "        text-align: right;\n",
              "    }\n",
              "</style>\n",
              "<table border=\"1\" class=\"dataframe\">\n",
              "  <thead>\n",
              "    <tr style=\"text-align: right;\">\n",
              "      <th>0_nivelEducativo</th>\n",
              "      <th>3</th>\n",
              "      <th>4</th>\n",
              "      <th>5</th>\n",
              "      <th>6</th>\n",
              "      <th>7</th>\n",
              "      <th>8</th>\n",
              "    </tr>\n",
              "    <tr>\n",
              "      <th>0_edad</th>\n",
              "      <th></th>\n",
              "      <th></th>\n",
              "      <th></th>\n",
              "      <th></th>\n",
              "      <th></th>\n",
              "      <th></th>\n",
              "    </tr>\n",
              "  </thead>\n",
              "  <tbody>\n",
              "    <tr>\n",
              "      <th>(0.914, 22.5]</th>\n",
              "      <td>0.067961</td>\n",
              "      <td>0.187996</td>\n",
              "      <td>0.707855</td>\n",
              "      <td>0.012357</td>\n",
              "      <td>0.022065</td>\n",
              "      <td>0.001765</td>\n",
              "    </tr>\n",
              "    <tr>\n",
              "      <th>(22.5, 44.0]</th>\n",
              "      <td>0.003860</td>\n",
              "      <td>0.037101</td>\n",
              "      <td>0.398885</td>\n",
              "      <td>0.098220</td>\n",
              "      <td>0.349989</td>\n",
              "      <td>0.111945</td>\n",
              "    </tr>\n",
              "    <tr>\n",
              "      <th>(44.0, 65.5]</th>\n",
              "      <td>0.008706</td>\n",
              "      <td>0.036070</td>\n",
              "      <td>0.177861</td>\n",
              "      <td>0.145522</td>\n",
              "      <td>0.329602</td>\n",
              "      <td>0.302239</td>\n",
              "    </tr>\n",
              "    <tr>\n",
              "      <th>(65.5, 87.0]</th>\n",
              "      <td>0.040816</td>\n",
              "      <td>0.061224</td>\n",
              "      <td>0.224490</td>\n",
              "      <td>0.112245</td>\n",
              "      <td>0.265306</td>\n",
              "      <td>0.295918</td>\n",
              "    </tr>\n",
              "  </tbody>\n",
              "</table>\n",
              "</div>\n",
              "    <div class=\"colab-df-buttons\">\n",
              "\n",
              "  <div class=\"colab-df-container\">\n",
              "    <button class=\"colab-df-convert\" onclick=\"convertToInteractive('df-1d605520-6854-4c1d-9166-0577e8e02396')\"\n",
              "            title=\"Convert this dataframe to an interactive table.\"\n",
              "            style=\"display:none;\">\n",
              "\n",
              "  <svg xmlns=\"http://www.w3.org/2000/svg\" height=\"24px\" viewBox=\"0 -960 960 960\">\n",
              "    <path d=\"M120-120v-720h720v720H120Zm60-500h600v-160H180v160Zm220 220h160v-160H400v160Zm0 220h160v-160H400v160ZM180-400h160v-160H180v160Zm440 0h160v-160H620v160ZM180-180h160v-160H180v160Zm440 0h160v-160H620v160Z\"/>\n",
              "  </svg>\n",
              "    </button>\n",
              "\n",
              "  <style>\n",
              "    .colab-df-container {\n",
              "      display:flex;\n",
              "      gap: 12px;\n",
              "    }\n",
              "\n",
              "    .colab-df-convert {\n",
              "      background-color: #E8F0FE;\n",
              "      border: none;\n",
              "      border-radius: 50%;\n",
              "      cursor: pointer;\n",
              "      display: none;\n",
              "      fill: #1967D2;\n",
              "      height: 32px;\n",
              "      padding: 0 0 0 0;\n",
              "      width: 32px;\n",
              "    }\n",
              "\n",
              "    .colab-df-convert:hover {\n",
              "      background-color: #E2EBFA;\n",
              "      box-shadow: 0px 1px 2px rgba(60, 64, 67, 0.3), 0px 1px 3px 1px rgba(60, 64, 67, 0.15);\n",
              "      fill: #174EA6;\n",
              "    }\n",
              "\n",
              "    .colab-df-buttons div {\n",
              "      margin-bottom: 4px;\n",
              "    }\n",
              "\n",
              "    [theme=dark] .colab-df-convert {\n",
              "      background-color: #3B4455;\n",
              "      fill: #D2E3FC;\n",
              "    }\n",
              "\n",
              "    [theme=dark] .colab-df-convert:hover {\n",
              "      background-color: #434B5C;\n",
              "      box-shadow: 0px 1px 3px 1px rgba(0, 0, 0, 0.15);\n",
              "      filter: drop-shadow(0px 1px 2px rgba(0, 0, 0, 0.3));\n",
              "      fill: #FFFFFF;\n",
              "    }\n",
              "  </style>\n",
              "\n",
              "    <script>\n",
              "      const buttonEl =\n",
              "        document.querySelector('#df-1d605520-6854-4c1d-9166-0577e8e02396 button.colab-df-convert');\n",
              "      buttonEl.style.display =\n",
              "        google.colab.kernel.accessAllowed ? 'block' : 'none';\n",
              "\n",
              "      async function convertToInteractive(key) {\n",
              "        const element = document.querySelector('#df-1d605520-6854-4c1d-9166-0577e8e02396');\n",
              "        const dataTable =\n",
              "          await google.colab.kernel.invokeFunction('convertToInteractive',\n",
              "                                                    [key], {});\n",
              "        if (!dataTable) return;\n",
              "\n",
              "        const docLinkHtml = 'Like what you see? Visit the ' +\n",
              "          '<a target=\"_blank\" href=https://colab.research.google.com/notebooks/data_table.ipynb>data table notebook</a>'\n",
              "          + ' to learn more about interactive tables.';\n",
              "        element.innerHTML = '';\n",
              "        dataTable['output_type'] = 'display_data';\n",
              "        await google.colab.output.renderOutput(dataTable, element);\n",
              "        const docLink = document.createElement('div');\n",
              "        docLink.innerHTML = docLinkHtml;\n",
              "        element.appendChild(docLink);\n",
              "      }\n",
              "    </script>\n",
              "  </div>\n",
              "\n",
              "\n",
              "<div id=\"df-103b7481-b92b-4dd8-beb6-c49d9386bcde\">\n",
              "  <button class=\"colab-df-quickchart\" onclick=\"quickchart('df-103b7481-b92b-4dd8-beb6-c49d9386bcde')\"\n",
              "            title=\"Suggest charts\"\n",
              "            style=\"display:none;\">\n",
              "\n",
              "<svg xmlns=\"http://www.w3.org/2000/svg\" height=\"24px\"viewBox=\"0 0 24 24\"\n",
              "     width=\"24px\">\n",
              "    <g>\n",
              "        <path d=\"M19 3H5c-1.1 0-2 .9-2 2v14c0 1.1.9 2 2 2h14c1.1 0 2-.9 2-2V5c0-1.1-.9-2-2-2zM9 17H7v-7h2v7zm4 0h-2V7h2v10zm4 0h-2v-4h2v4z\"/>\n",
              "    </g>\n",
              "</svg>\n",
              "  </button>\n",
              "\n",
              "<style>\n",
              "  .colab-df-quickchart {\n",
              "      --bg-color: #E8F0FE;\n",
              "      --fill-color: #1967D2;\n",
              "      --hover-bg-color: #E2EBFA;\n",
              "      --hover-fill-color: #174EA6;\n",
              "      --disabled-fill-color: #AAA;\n",
              "      --disabled-bg-color: #DDD;\n",
              "  }\n",
              "\n",
              "  [theme=dark] .colab-df-quickchart {\n",
              "      --bg-color: #3B4455;\n",
              "      --fill-color: #D2E3FC;\n",
              "      --hover-bg-color: #434B5C;\n",
              "      --hover-fill-color: #FFFFFF;\n",
              "      --disabled-bg-color: #3B4455;\n",
              "      --disabled-fill-color: #666;\n",
              "  }\n",
              "\n",
              "  .colab-df-quickchart {\n",
              "    background-color: var(--bg-color);\n",
              "    border: none;\n",
              "    border-radius: 50%;\n",
              "    cursor: pointer;\n",
              "    display: none;\n",
              "    fill: var(--fill-color);\n",
              "    height: 32px;\n",
              "    padding: 0;\n",
              "    width: 32px;\n",
              "  }\n",
              "\n",
              "  .colab-df-quickchart:hover {\n",
              "    background-color: var(--hover-bg-color);\n",
              "    box-shadow: 0 1px 2px rgba(60, 64, 67, 0.3), 0 1px 3px 1px rgba(60, 64, 67, 0.15);\n",
              "    fill: var(--button-hover-fill-color);\n",
              "  }\n",
              "\n",
              "  .colab-df-quickchart-complete:disabled,\n",
              "  .colab-df-quickchart-complete:disabled:hover {\n",
              "    background-color: var(--disabled-bg-color);\n",
              "    fill: var(--disabled-fill-color);\n",
              "    box-shadow: none;\n",
              "  }\n",
              "\n",
              "  .colab-df-spinner {\n",
              "    border: 2px solid var(--fill-color);\n",
              "    border-color: transparent;\n",
              "    border-bottom-color: var(--fill-color);\n",
              "    animation:\n",
              "      spin 1s steps(1) infinite;\n",
              "  }\n",
              "\n",
              "  @keyframes spin {\n",
              "    0% {\n",
              "      border-color: transparent;\n",
              "      border-bottom-color: var(--fill-color);\n",
              "      border-left-color: var(--fill-color);\n",
              "    }\n",
              "    20% {\n",
              "      border-color: transparent;\n",
              "      border-left-color: var(--fill-color);\n",
              "      border-top-color: var(--fill-color);\n",
              "    }\n",
              "    30% {\n",
              "      border-color: transparent;\n",
              "      border-left-color: var(--fill-color);\n",
              "      border-top-color: var(--fill-color);\n",
              "      border-right-color: var(--fill-color);\n",
              "    }\n",
              "    40% {\n",
              "      border-color: transparent;\n",
              "      border-right-color: var(--fill-color);\n",
              "      border-top-color: var(--fill-color);\n",
              "    }\n",
              "    60% {\n",
              "      border-color: transparent;\n",
              "      border-right-color: var(--fill-color);\n",
              "    }\n",
              "    80% {\n",
              "      border-color: transparent;\n",
              "      border-right-color: var(--fill-color);\n",
              "      border-bottom-color: var(--fill-color);\n",
              "    }\n",
              "    90% {\n",
              "      border-color: transparent;\n",
              "      border-bottom-color: var(--fill-color);\n",
              "    }\n",
              "  }\n",
              "</style>\n",
              "\n",
              "  <script>\n",
              "    async function quickchart(key) {\n",
              "      const quickchartButtonEl =\n",
              "        document.querySelector('#' + key + ' button');\n",
              "      quickchartButtonEl.disabled = true;  // To prevent multiple clicks.\n",
              "      quickchartButtonEl.classList.add('colab-df-spinner');\n",
              "      try {\n",
              "        const charts = await google.colab.kernel.invokeFunction(\n",
              "            'suggestCharts', [key], {});\n",
              "      } catch (error) {\n",
              "        console.error('Error during call to suggestCharts:', error);\n",
              "      }\n",
              "      quickchartButtonEl.classList.remove('colab-df-spinner');\n",
              "      quickchartButtonEl.classList.add('colab-df-quickchart-complete');\n",
              "    }\n",
              "    (() => {\n",
              "      let quickchartButtonEl =\n",
              "        document.querySelector('#df-103b7481-b92b-4dd8-beb6-c49d9386bcde button');\n",
              "      quickchartButtonEl.style.display =\n",
              "        google.colab.kernel.accessAllowed ? 'block' : 'none';\n",
              "    })();\n",
              "  </script>\n",
              "</div>\n",
              "    </div>\n",
              "  </div>\n"
            ]
          },
          "metadata": {},
          "execution_count": 21
        }
      ]
    },
    {
      "cell_type": "code",
      "source": [
        "def radar_plot(df, title='',):\n",
        "    categories = df.columns\n",
        "    N = len(categories)\n",
        "    angles = [n / float(N) * 2 * np.pi for n in range(N)]\n",
        "    angles += angles[:1]\n",
        "    fig, ax = plt.subplots(figsize = (6,6), subplot_kw =\n",
        "{'projection': 'polar'})\n",
        "    ax.set_theta_offset(np.pi / 2)\n",
        "    ax.set_theta_direction(-1)\n",
        "    ax.set_xticks(angles[:-1])\n",
        "    ax.set_xticklabels(categories,\n",
        "                     fontsize=12)\n",
        "    ax.set_rlabel_position(0)\n",
        "    ax.set_yticks([0.1,0.2,0.3,0.4,0.5,])\n",
        "    ax.set_yticklabels([\"0.1\",\"0.2\",\"0.3\",\"0.4\",\"0.5\",],\n",
        "                     color = \"darkgrey\",\n",
        "                     size = 10)\n",
        "    ax.set_ylim(0,0.8)\n",
        "    for row in df.iloc:\n",
        "            values = row.values.flatten().tolist()\n",
        "            values += values[:1]\n",
        "            ax.plot(angles, values, linewidth=1.5, linestyle=\n",
        "'solid', label = 'Edad entre {} y {}'.format(int(row.name.left),\n",
        "int(row.name.right)))\n",
        "            ax.fill(angles, values, 'b', alpha=0.1)\n",
        "    ax.legend(loc=(-0.2,-0.3),fontsize=12)\n",
        "    ax.set_title(title, position=(.5, 1.2),fontsize=15,)\n",
        "\n",
        "radar_plot(nivel_educativo_segun_edad, title = 'Nivel Educativo según Edad de los Participantes')"
      ],
      "metadata": {
        "colab": {
          "base_uri": "https://localhost:8080/",
          "height": 691
        },
        "id": "Lyi78ufIEJeS",
        "outputId": "8914105a-e655-4da4-d9ae-f7d3a6d815ab"
      },
      "execution_count": null,
      "outputs": [
        {
          "output_type": "display_data",
          "data": {
            "text/plain": [
              "<Figure size 600x600 with 1 Axes>"
            ],
            "image/png": "[encoded data removed]"
          },
          "metadata": {}
        }
      ]
    }
  ]
}